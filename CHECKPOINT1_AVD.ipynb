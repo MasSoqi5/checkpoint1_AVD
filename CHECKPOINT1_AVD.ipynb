{
  "nbformat": 4,
  "nbformat_minor": 0,
  "metadata": {
    "colab": {
      "provenance": []
    },
    "kernelspec": {
      "name": "python3",
      "display_name": "Python 3"
    },
    "language_info": {
      "name": "python"
    }
  },
  "cells": [
    {
      "cell_type": "markdown",
      "source": [
        "# BUSINESS UNDERSTANDING"
      ],
      "metadata": {
        "id": "2d8Rn33cVwAX"
      }
    },
    {
      "cell_type": "markdown",
      "source": [
        "# **BUSINESS** **OBJECTIVE**\n",
        "\n",
        "Tujuan utama dari proyek ini adalah untuk menganalisis tren dan pola indeks gudang penyewaan berdasarkan data dari pergudangan dan penjualan sewaan di negri bagian Maryland dalam rentang 2017-2020 berdasarkan Tahun,Bulan,Supplier,Kode barang,deskripsi Barang,Tipe barang,penjualan sewaan, *transfer* barang.Penjualan pergudangan. Projek ini dikhususkan untuk mendukung pengambilan keputusan dalam bidang ketersediaan barang dan penyimpanan Supply. Kemudian hasil analisis ini dapat memberi manfaat kepada pertama Staff pergudangan,Karyawan penyewaan, dan pemasok barang-barang guna memberikan rancangan yang lebih efektif dan akurat dalam menyediakan barang untuk disimpan pada Gudang ini"
      ],
      "metadata": {
        "id": "YComhi7EV8Ef"
      }
    },
    {
      "cell_type": "markdown",
      "source": [
        "#**ASSESS** **SITUATION**\n",
        "\n",
        "Situasi bisnis yang mendasari analisis ini adalah adanya kesadaran dan kepentingan terhadap kualitas,spesifikasi,kuantitas,Label yang diperkenankan pada barang-barang yang disimpan pada gudang baik pada saat menyimpan ataupun saat disewakan. maka dibutuhkan data yang akurat untuk membahas seluruh aspek terkait barang-barang yang telah dipasok terlebih lagi dengan adanya pengevaluasian dalam penyuplaian barang maka resiko terjadinya pengoplosan,penipuan,bahkan kerugian dapat dihindarkan atau diminamilisir lebih baik."
      ],
      "metadata": {
        "id": "nIEtvquoV8pp"
      }
    },
    {
      "cell_type": "code",
      "source": [],
      "metadata": {
        "id": "GJPR-dMmgQ3U"
      },
      "execution_count": null,
      "outputs": []
    },
    {
      "cell_type": "markdown",
      "source": [
        "# **DATA** **MINING** **GOALS**\n",
        "\n",
        "\n",
        "\n",
        "1.   Menganalisis tren perkembangan *list* daftar barang yang telah disetorkan,dilabeli,dan dititipkan dalam kurun waktu 2020-2017 dengan rentang bulan mulai dari Januari 2017 hingga Desember 2020  \n",
        "\n",
        "2.   Mengidentifikasi setiap jenis barang yang telah dimasukkan kedalam gudang berdasarkan Kode,Deskripsi,dan tipe\n",
        "\n",
        "3.   menentukan jumlah penjualan gudang dan sewaan dari tingkat penjualan dan *transfer*\n",
        "\n",
        "4.   memberikan wawasan pada masyarakat khususnya pamasok barang dan organisasi pergudangan dalam merancang strategi pendataan suplai yang lebih optimal\n",
        "\n",
        "\n",
        "\n"
      ],
      "metadata": {
        "id": "npBpNOvGWYR-"
      }
    },
    {
      "cell_type": "markdown",
      "source": [
        "# **PROJECT** **PLAN**\n",
        "\n",
        "1. Melakukan pengumpulan serta pembersihan data dari data yang tidak terlalu digunakan serta menjamin integritas data serta nilainya tidak menghilang atau tidak valid\n",
        "\n",
        "2. meninjau kembali pada Analisis eksploratif dikarenakan adanya kebutuhan barang-barang apa saja yang harus divisualisakan berdasarkan tahun,bulan,dan penjualan sewaan maupun gudang .\n",
        "\n",
        "3. Modeling dan insight\n",
        "sebagai objek vital dikarenakan gudang ini adalah gudang penyimpanan serbaguna yang dapat dimasukkan serta disuplai banyak barang maka diperlukan analisis barang yang ada berdasarkan faktor-faktor yang tersedia pada dataset\n",
        "\n",
        "4. Dokumentasi dan presentasi\n",
        "Menyusun laporan hasil analisis dan menyajikan hasil visualisasi dengan data yang jelas dan transparan."
      ],
      "metadata": {
        "id": "zoa29rgmWeeM"
      }
    }
  ]
}